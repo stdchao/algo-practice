{
 "cells": [
  {
   "cell_type": "markdown",
   "metadata": {},
   "source": [
    "# Chapter01"
   ]
  },
  {
   "cell_type": "markdown",
   "metadata": {},
   "source": [
    "#### 插入排序\n",
    "\n",
    "时间复杂度 O(n2)"
   ]
  },
  {
   "cell_type": "code",
   "execution_count": 33,
   "metadata": {
    "collapsed": false
   },
   "outputs": [
    {
     "name": "stdout",
     "output_type": "stream",
     "text": [
      "2 [5, 2, 4, 6, 1, 3]\n",
      "4 [5, 4, 2, 6, 1, 3]\n",
      "6 [6, 5, 4, 2, 1, 3]\n",
      "1 [6, 5, 4, 2, 1, 3]\n",
      "3 [6, 5, 4, 3, 2, 1]\n",
      "41 [41, 31, 59, 26, 41, 58]\n",
      "59 [59, 41, 31, 26, 41, 58]\n",
      "26 [59, 41, 31, 26, 41, 58]\n",
      "41 [59, 41, 41, 31, 26, 58]\n",
      "58 [59, 58, 41, 41, 31, 26]\n"
     ]
    }
   ],
   "source": [
    "def insertionSort(listA):\n",
    "    for currentPos in range(1, len(listA)): # loop list element from 2 to the last\n",
    "        currentVal = listA[currentPos] # store the element which needed to insert to the sorted part \n",
    "        sortedPos = currentPos # get tail index of the sorted part\n",
    "        while sortedPos > 0 and listA[sortedPos-1] > currentVal: # loop if (sortedPos-1)Val larger than currentVal\n",
    "            listA[sortedPos] = listA[sortedPos-1] # put the bigger val into the tail of sorted part\n",
    "            sortedPos = sortedPos - 1 \n",
    "        listA[sortedPos] = currentVal # put the store element into the sorted part when find its bigger than someone\n",
    "        print currentVal, listA # show switch process\n",
    "                \n",
    "# test 1\n",
    "insertionSort([5,2,4,6,1,3])\n",
    "\n",
    "# test 2\n",
    "listT2 = [31, 41, 59, 26, 41, 58]\n",
    "insertionSort(listT2)"
   ]
  },
  {
   "cell_type": "markdown",
   "metadata": {},
   "source": [
    "#### 练习\n",
    "1. 修改排序为降序排列\n",
    "2. "
   ]
  }
 ],
 "metadata": {
  "kernelspec": {
   "display_name": "Python 2",
   "language": "python",
   "name": "python2"
  },
  "language_info": {
   "codemirror_mode": {
    "name": "ipython",
    "version": 2
   },
   "file_extension": ".py",
   "mimetype": "text/x-python",
   "name": "python",
   "nbconvert_exporter": "python",
   "pygments_lexer": "ipython2",
   "version": "2.7.10"
  }
 },
 "nbformat": 4,
 "nbformat_minor": 0
}
