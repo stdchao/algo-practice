{
 "cells": [
  {
   "cell_type": "markdown",
   "metadata": {},
   "source": [
    "# 删除链表中的元素\n",
    "\n",
    "删除链表中等于给定值val的所有节点。\n",
    "\n",
    "#### 样例\n",
    "给出链表 1->2->3->3->4->5->3, 和 val = 3, 你需要返回删除3之后的链表：1->2->4->5。"
   ]
  },
  {
   "cell_type": "code",
   "execution_count": 10,
   "metadata": {
    "collapsed": false
   },
   "outputs": [
    {
     "name": "stdout",
     "output_type": "stream",
     "text": [
      "1 -> 2 -> 3 -> 3 -> 4 -> 5 -> 3 -> null\n",
      "1 -> 2 -> 4 -> 5 -> null\n",
      "1 -> 2 -> 4 -> 5 -> null\n",
      "2 -> null\n"
     ]
    }
   ],
   "source": [
    "# Definition for singly-linked list.\n",
    "class ListNode:\n",
    "    def __init__(self, x, next=None):\n",
    "        self.val = x\n",
    "        self.next = next\n",
    "    \n",
    "    def travel(self):\n",
    "        while self != None:\n",
    "            print self.val, \"->\",\n",
    "            self = self.next\n",
    "        print \"null\"\n",
    "\n",
    "class Solution:\n",
    "    # @param head, a ListNode\n",
    "    # @param val, an integer\n",
    "    # @return a ListNode\n",
    "    def removeElements(self, head, val):\n",
    "        # Write your code here\n",
    "        \n",
    "        # Firstly, result direct the head of the linklist\n",
    "        result = head\n",
    "        if head == None:\n",
    "            return None\n",
    "        \n",
    "        # Secondly, delete the val in the linklist except the first element\n",
    "        while head.next != None:\n",
    "            if head.next.val == val:\n",
    "                if head.next.next != None:\n",
    "                    head.next = head.next.next\n",
    "                else:\n",
    "                    head.next = None\n",
    "                    break\n",
    "            else:\n",
    "                head = head.next\n",
    "        \n",
    "        # Thirdly, delete the first element if it equals to val\n",
    "        if result.val == val:\n",
    "            result = result.next\n",
    "        return result\n",
    "\n",
    "L1 = ListNode(1, ListNode(2, ListNode(3, ListNode(3, ListNode(4, ListNode(5, ListNode(3, None)))))))\n",
    "#L1 = ListNode(1)\n",
    "L1.travel()\n",
    "L2 = L1\n",
    "#\n",
    "sol = Solution()\n",
    "L1 = sol.removeElements(L1, 3)\n",
    "#\n",
    "L1.travel()\n",
    "L2.travel()\n",
    "#\n",
    "L3 = ListNode(1, ListNode(1, ListNode(2)))\n",
    "L3 = sol.removeElements(L3, 1)\n",
    "L3.travel()"
   ]
  }
 ],
 "metadata": {
  "kernelspec": {
   "display_name": "Python 2",
   "language": "python",
   "name": "python2"
  },
  "language_info": {
   "codemirror_mode": {
    "name": "ipython",
    "version": 2
   },
   "file_extension": ".py",
   "mimetype": "text/x-python",
   "name": "python",
   "nbconvert_exporter": "python",
   "pygments_lexer": "ipython2",
   "version": "2.7.10"
  }
 },
 "nbformat": 4,
 "nbformat_minor": 0
}
