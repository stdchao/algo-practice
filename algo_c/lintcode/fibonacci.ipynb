{
 "cells": [
  {
   "cell_type": "markdown",
   "metadata": {},
   "source": [
    "# 斐波纳契数列\n",
    "\n",
    "查找斐波纳契数列中第 N 个数。\n",
    "\n",
    "所谓的斐波纳契数列是指：\n",
    "\n",
    "前2个数是 0 和 1 。\n",
    "第 i 个数是第 i-1 个数和第i-2 个数的和。\n",
    "斐波纳契数列的前10个数字是：\n",
    "\n",
    "0, 1, 1, 2, 3, 5, 8, 13, 21, 34 ...\n",
    "\n",
    "#### 样例\n",
    "给定 1，返回 0\n",
    "\n",
    "给定 2，返回 1\n",
    "\n",
    "给定 10，返回 34"
   ]
  },
  {
   "cell_type": "markdown",
   "metadata": {},
   "source": [
    "#### 递归实现"
   ]
  },
  {
   "cell_type": "code",
   "execution_count": 1,
   "metadata": {
    "collapsed": false
   },
   "outputs": [
    {
     "name": "stdout",
     "output_type": "stream",
     "text": [
      "result =  63245986 ;  58.036035 s\n"
     ]
    }
   ],
   "source": [
    "import time\n",
    "\n",
    "class Solution:\n",
    "    result = 0\n",
    "    \n",
    "    def __init__(self, n):\n",
    "        self.result = self.fibonacci(n)\n",
    "    \n",
    "    # @param n: an integer\n",
    "    # @return an integer f(n)\n",
    "    def fibonacci(self, n):\n",
    "        # write your code here\n",
    "        if n == 1:\n",
    "            return 0\n",
    "        elif n == 2:\n",
    "            return 1\n",
    "        else:\n",
    "            return self.fibonacci(n-1) + self.fibonacci(n-2)\n",
    "\n",
    "start = time.clock()\n",
    "sol = Solution(40)\n",
    "end = time.clock()\n",
    "print 'result = ', sol.result, \"; \", end-start, \"s\""
   ]
  },
  {
   "cell_type": "markdown",
   "metadata": {},
   "source": [
    "#### 非递归实现 "
   ]
  },
  {
   "cell_type": "code",
   "execution_count": 2,
   "metadata": {
    "collapsed": false
   },
   "outputs": [
    {
     "name": "stdout",
     "output_type": "stream",
     "text": [
      "result =  63245986 ;  0.000175999999996 s\n"
     ]
    }
   ],
   "source": [
    "import time\n",
    "\n",
    "class Solution:\n",
    "    result = 0\n",
    "    \n",
    "    def __init__(self, n):\n",
    "        self.result = self.fibonacci(n)\n",
    "    \n",
    "    # @param n: an integer\n",
    "    # @return an integer f(n)\n",
    "    def fibonacci(self, n):\n",
    "        # write your code here\n",
    "        a, b = 0, 1\n",
    "        for i in range(1, n):\n",
    "            a, b = b, a + b\n",
    "        return a\n",
    "\n",
    "start = time.clock()\n",
    "sol = Solution(40)\n",
    "end = time.clock()\n",
    "print 'result = ', sol.result, \"; \", end-start, \"s\""
   ]
  }
 ],
 "metadata": {
  "kernelspec": {
   "display_name": "Python 2",
   "language": "python",
   "name": "python2"
  },
  "language_info": {
   "codemirror_mode": {
    "name": "ipython",
    "version": 2
   },
   "file_extension": ".py",
   "mimetype": "text/x-python",
   "name": "python",
   "nbconvert_exporter": "python",
   "pygments_lexer": "ipython2",
   "version": "2.7.10"
  }
 },
 "nbformat": 4,
 "nbformat_minor": 0
}
