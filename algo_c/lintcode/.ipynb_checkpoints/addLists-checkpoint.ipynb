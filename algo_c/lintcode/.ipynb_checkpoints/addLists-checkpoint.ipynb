{
 "cells": [
  {
   "cell_type": "markdown",
   "metadata": {},
   "source": [
    "# 链表求和\n",
    "你有两个用链表代表的整数，其中每个节点包含一个数字。数字存储按照在原来整数中相反的顺序，使得第一个数字位于链表的开头。写出一个函数将两个整数相加，用链表形式返回和。\n",
    "\n",
    "#### 样例\n",
    "给出两个链表 3->1->5->null 和 5->9->2->null，返回 8->0->8->null"
   ]
  },
  {
   "cell_type": "code",
   "execution_count": 6,
   "metadata": {
    "collapsed": false
   },
   "outputs": [
    {
     "name": "stdout",
     "output_type": "stream",
     "text": [
      "3 -> 1 -> 5 -> null\n",
      "5 -> 9 -> 2 -> null\n",
      "8 -> 0 -> 8 -> null\n",
      "5 -> 9 -> 2 -> null\n",
      "8 -> 0 -> 8 -> null\n"
     ]
    }
   ],
   "source": [
    "# Definition for singly-linked list.\n",
    "class ListNode:\n",
    "    def __init__(self, x, next=None):\n",
    "        self.val = x\n",
    "        self.next = next\n",
    "        \n",
    "    def travel(self):\n",
    "        while self != None:\n",
    "            print self.val, '->',\n",
    "            self = self.next\n",
    "        print 'null'\n",
    "\n",
    "class Solution:\n",
    "    # @param l1: the first list\n",
    "    # @param l2: the second list\n",
    "    # @return: the sum list of l1 and l2 \n",
    "    def addLists(self, l1, l2):\n",
    "        # write your code here\n",
    "        # Firstly, direct result to the head of l1\n",
    "        result = l1\n",
    "\n",
    "        # Sencondly, travel l1 and l2 for sum\n",
    "        while l1 != None:\n",
    "            if l2 == None:\n",
    "                return result\n",
    "            else:\n",
    "                # add l1 and l2 elements in equal index\n",
    "                sum = l1.val + l2.val\n",
    "                large = sum/10\n",
    "                small = sum - large*10\n",
    "                l1.val = small\n",
    "                if large > 0:\n",
    "                    if l1.next != None:\n",
    "                        l1.next.val = l1.next.val + large\n",
    "                    else:\n",
    "                        # new ListNode for l1\n",
    "                        l1.next = ListNode(large)\n",
    "\n",
    "            # direct l2's head to the next node no matter l2's next is None or not\n",
    "            l2 = l2.next\n",
    "            # add the rest of l2 to l1 when l1'next is None, and finish add operate\n",
    "            if l1.next == None:\n",
    "                l1.next = l2\n",
    "                break\n",
    "            else:\n",
    "                l1 = l1.next\n",
    "\n",
    "        return result\n",
    "    \n",
    "L1 = ListNode(3, ListNode(1, ListNode(5)))\n",
    "L2 = ListNode(5, ListNode(9, ListNode(2)))\n",
    "L1.travel()\n",
    "L2.travel()\n",
    "#\n",
    "sol = Solution()\n",
    "L3 = sol.addLists(L1, L2)\n",
    "L1.travel()\n",
    "L2.travel()\n",
    "L3.travel()"
   ]
  }
 ],
 "metadata": {
  "kernelspec": {
   "display_name": "Python 2",
   "language": "python",
   "name": "python2"
  },
  "language_info": {
   "codemirror_mode": {
    "name": "ipython",
    "version": 2
   },
   "file_extension": ".py",
   "mimetype": "text/x-python",
   "name": "python",
   "nbconvert_exporter": "python",
   "pygments_lexer": "ipython2",
   "version": "2.7.10"
  }
 },
 "nbformat": 4,
 "nbformat_minor": 0
}
