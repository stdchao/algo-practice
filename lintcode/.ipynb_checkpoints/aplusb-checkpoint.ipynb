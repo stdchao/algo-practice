{
 "cells": [
  {
   "cell_type": "markdown",
   "metadata": {},
   "source": [
    "# A + B 问题\n",
    "\n",
    "给出两个整数a和b, 求他们的和, 但不能使用 + 等数学运算符。\n",
    "你不需要从输入流读入数据，只需要根据aplusb的两个参数a和b，计算他们的和并返回就行。\n",
    "\n",
    "#### 说明\n",
    "1. a和b都是 32位 整数么？\n",
    "是的\n",
    "\n",
    "2. 我可以使用位运算符么？\n",
    "当然可以\n",
    "\n",
    "#### 样例\n",
    "如果 a=1 并且 b=2，返回3"
   ]
  },
  {
   "cell_type": "code",
   "execution_count": 3,
   "metadata": {
    "collapsed": false
   },
   "outputs": [
    {
     "name": "stdout",
     "output_type": "stream",
     "text": [
      "1 + 2 = 3\n",
      "10 + 1000 = 1010\n",
      "-100 + 100 = 0\n",
      "10000 + -20000 = -10000\n"
     ]
    }
   ],
   "source": [
    "import ctypes\n",
    "\n",
    "class Solution:\n",
    "    \"\"\"\n",
    "    @param a: The first integer\n",
    "    @param b: The second integer\n",
    "    @return:  The sum of a and b\n",
    "    \"\"\"\n",
    "    def aplusb(self, a, b):\n",
    "        # write your code here, try to do it without arithmetic operators.\n",
    "        a = ctypes.c_int32(a).value\n",
    "        b = ctypes.c_int32(b).value\n",
    "        while b != 0:\n",
    "            carry = ctypes.c_int32(a & b).value\n",
    "            a = ctypes.c_int32(a ^ b).value\n",
    "            b = ctypes.c_int32(carry << 1).value\n",
    "        return a\n",
    "    \n",
    "sol = Solution()\n",
    "print '1 + 2 =', sol.aplusb(1, 2)\n",
    "print '10 + 1000 =', sol.aplusb(10, 1000)\n",
    "print '-100 + 100 =', sol.aplusb(-100, 100)\n",
    "print '10000 + -20000 =', sol.aplusb(10000, -20000)"
   ]
  },
  {
   "cell_type": "markdown",
   "metadata": {},
   "source": [
    "# C"
   ]
  },
  {
   "cell_type": "code",
   "execution_count": null,
   "metadata": {
    "collapsed": true
   },
   "outputs": [],
   "source": [
    "#include <stdio.h>\n",
    "\n",
    "int add(int a, int b)\n",
    "{\n",
    "    int c = a & b, r = a ^ b;\n",
    "    return c == 0 ? r : add(r, c << 1);\n",
    "}\n",
    "\n",
    "int main(int argn, char *argv[])\n",
    "{\n",
    "    printf(\"sum = %d\\n\", add(-10000, 56789));\n",
    "    return 0;\n",
    "}"
   ]
  },
  {
   "cell_type": "markdown",
   "metadata": {},
   "source": [
    "####  基本的加法器（ALU）\n",
    "\n",
    "如果是单比特的a + b，那么结果应该是两位，姑且算是：x1, x0。\n",
    "x1 = a & b;\n",
    "x0 = a ^ b;\n",
    "看看下面的计算表格就知道了：\n",
    "因为考虑结果会产生进位，所以计算完以后需要记得再加一下进位。\n",
    "\n",
    "对于补码，不限符号，不限位数。\n",
    "\n",
    "作者：doing NA\n",
    "链接：https://www.zhihu.com/question/28392554/answer/40636524\n",
    "来源：知乎\n",
    "著作权归作者所有。商业转载请联系作者获得授权，非商业转载请注明出处。"
   ]
  }
 ],
 "metadata": {
  "kernelspec": {
   "display_name": "Python 2",
   "language": "python",
   "name": "python2"
  },
  "language_info": {
   "codemirror_mode": {
    "name": "ipython",
    "version": 2
   },
   "file_extension": ".py",
   "mimetype": "text/x-python",
   "name": "python",
   "nbconvert_exporter": "python",
   "pygments_lexer": "ipython2",
   "version": "2.7.10"
  }
 },
 "nbformat": 4,
 "nbformat_minor": 0
}
