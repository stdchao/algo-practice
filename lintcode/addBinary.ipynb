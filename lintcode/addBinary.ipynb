{
 "cells": [
  {
   "cell_type": "markdown",
   "metadata": {},
   "source": [
    "# 二进制求和\n",
    "\n",
    "给定两个二进制字符串，返回他们的和（用二进制表示）。\n",
    "\n",
    "#### 样例\n",
    "a = 11\n",
    "b = 1\n",
    "\n",
    "返回 100"
   ]
  },
  {
   "cell_type": "code",
   "execution_count": 12,
   "metadata": {
    "collapsed": false
   },
   "outputs": [
    {
     "data": {
      "text/plain": [
       "'10001001'"
      ]
     },
     "execution_count": 12,
     "metadata": {},
     "output_type": "execute_result"
    }
   ],
   "source": [
    "class Solution:\n",
    "    # @param {string} a a number\n",
    "    # @param {string} b a number\n",
    "    # @return {string} the result\n",
    "    def addBinary(self, a, b):\n",
    "        # Write your code here\n",
    "        max_len = max(len(a), len(b))\n",
    "        a = a.zfill(max_len)\n",
    "        b = b.zfill(max_len)\n",
    "\n",
    "        result = ''\n",
    "        carry = 0\n",
    "        for a, b in zip(a, b)[::-1]:\n",
    "            bits_sum = carry\n",
    "            bits_sum += int(a) + int(b)\n",
    "            result = ('0' if bits_sum % 2 == 0 else '1') + result\n",
    "            carry = 0 if bits_sum < 2 else 1\n",
    "\n",
    "        result = ('1' if carry > 0 else '') + result\n",
    "\n",
    "        return result\n",
    "    \n",
    "sol = Solution()\n",
    "sol.addBinary('1110010', '10111')"
   ]
  },
  {
   "cell_type": "code",
   "execution_count": 13,
   "metadata": {
    "collapsed": false
   },
   "outputs": [
    {
     "data": {
      "text/plain": [
       "100"
      ]
     },
     "execution_count": 13,
     "metadata": {},
     "output_type": "execute_result"
    }
   ],
   "source": [
    "10**2\n"
   ]
  }
 ],
 "metadata": {
  "kernelspec": {
   "display_name": "Python 2",
   "language": "python",
   "name": "python2"
  },
  "language_info": {
   "codemirror_mode": {
    "name": "ipython",
    "version": 2
   },
   "file_extension": ".py",
   "mimetype": "text/x-python",
   "name": "python",
   "nbconvert_exporter": "python",
   "pygments_lexer": "ipython2",
   "version": "2.7.10"
  }
 },
 "nbformat": 4,
 "nbformat_minor": 0
}
